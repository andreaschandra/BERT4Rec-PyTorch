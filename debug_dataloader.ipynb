{
 "cells": [
  {
   "cell_type": "code",
   "execution_count": 1,
   "id": "32ca19fb",
   "metadata": {
    "scrolled": true
   },
   "outputs": [],
   "source": [
    "from argparse import Namespace\n",
    "\n",
    "import pandas as pd\n",
    "\n",
    "from models import model_factory\n",
    "from dataloaders import dataloader_factory\n",
    "from trainers import trainer_factory\n",
    "from utils import setup_train"
   ]
  },
  {
   "cell_type": "code",
   "execution_count": 2,
   "id": "85f97e1e",
   "metadata": {
    "scrolled": true
   },
   "outputs": [],
   "source": [
    "args = Namespace(\n",
    "    \n",
    "    # Top Level\n",
    "    mode='train',\n",
    "    template=None,\n",
    "    \n",
    "    # Test\n",
    "    test_model_path=None,\n",
    "    \n",
    "    # Dataset\n",
    "    dataset_code='ml-1m',\n",
    "    min_rating=4,\n",
    "    min_uc=5,\n",
    "    min_sc=0,\n",
    "    split='leave_one_out',\n",
    "    \n",
    "    # Dataloader\n",
    "    dataloader_code='bert',\n",
    "    dataloader_random_seed=0.0,\n",
    "    train_batch_size=64,\n",
    "    val_batch_size=64,\n",
    "    test_batch_size=64,\n",
    "    \n",
    "    # Negative Sampler\n",
    "    train_negative_sampler_code='random',\n",
    "    train_negative_sample_size=100,\n",
    "    train_negative_sampling_seed=42,\n",
    "    test_negative_sampler_code='random',\n",
    "    test_negative_sample_size=100,\n",
    "    test_negative_sampling_seed=42,\n",
    "    \n",
    "    # Trainer\n",
    "    trainer_code='bert',\n",
    "    device='cpu',\n",
    "    num_gpu=1,\n",
    "    device_idx='0',\n",
    "    optimizer='Adam',\n",
    "    lr=0.001,\n",
    "    weight_decay=0,\n",
    "    momentum=None,\n",
    "    decay_step=15,\n",
    "    gamma=0.1,\n",
    "    num_epochs=100,\n",
    "    log_period_as_iter=12800,\n",
    "    metric_ks=[10, 20, 50],\n",
    "    best_metric='NDCG@10',\n",
    "    \n",
    "    # Model\n",
    "    model_code='bert',\n",
    "    model_init_seed=42,\n",
    "    bert_max_len=32,\n",
    "    bert_num_items=3533,\n",
    "    bert_hidden_units=32,\n",
    "    bert_num_blocks=1,\n",
    "    bert_num_heads=1,\n",
    "    bert_dropout=0.0,\n",
    "    bert_mask_prob=0.1,\n",
    "    \n",
    "    # Experiment\n",
    "    experiment_dir='experiments',\n",
    "    experiment_description='test'\n",
    ")"
   ]
  },
  {
   "cell_type": "markdown",
   "id": "46276d34",
   "metadata": {},
   "source": [
    "### dataloader_factory"
   ]
  },
  {
   "cell_type": "code",
   "execution_count": 3,
   "id": "19a380eb",
   "metadata": {},
   "outputs": [],
   "source": [
    "from datasets import dataset_factory"
   ]
  },
  {
   "cell_type": "code",
   "execution_count": null,
   "id": "36c4abe7",
   "metadata": {},
   "outputs": [],
   "source": []
  },
  {
   "cell_type": "code",
   "execution_count": null,
   "id": "23549501",
   "metadata": {},
   "outputs": [],
   "source": [
    "train_loader, val_loader, test_loader = dataloader_factory(args)"
   ]
  },
  {
   "cell_type": "code",
   "execution_count": null,
   "id": "6673c9e8",
   "metadata": {},
   "outputs": [],
   "source": [
    "x, y = next(iter(train_loader))"
   ]
  },
  {
   "cell_type": "code",
   "execution_count": null,
   "id": "5059d452",
   "metadata": {},
   "outputs": [],
   "source": [
    "x.shape"
   ]
  },
  {
   "cell_type": "code",
   "execution_count": null,
   "id": "a583a172",
   "metadata": {},
   "outputs": [],
   "source": [
    "y.shape"
   ]
  },
  {
   "cell_type": "code",
   "execution_count": null,
   "id": "5f8d0f0b",
   "metadata": {},
   "outputs": [],
   "source": []
  }
 ],
 "metadata": {
  "kernelspec": {
   "display_name": "Python 3",
   "language": "python",
   "name": "python3"
  },
  "language_info": {
   "codemirror_mode": {
    "name": "ipython",
    "version": 3
   },
   "file_extension": ".py",
   "mimetype": "text/x-python",
   "name": "python",
   "nbconvert_exporter": "python",
   "pygments_lexer": "ipython3",
   "version": "3.7.3"
  }
 },
 "nbformat": 4,
 "nbformat_minor": 5
}
