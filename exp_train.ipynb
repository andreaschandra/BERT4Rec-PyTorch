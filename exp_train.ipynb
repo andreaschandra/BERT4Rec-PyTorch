{
 "cells": [
  {
   "cell_type": "code",
   "execution_count": 1,
   "id": "d8028bd9",
   "metadata": {},
   "outputs": [],
   "source": [
    "from argparse import Namespace\n",
    "\n",
    "import pprint\n",
    "import math\n",
    "import random\n",
    "import itertools\n",
    "import pandas as pd\n",
    "import numpy as np\n",
    "import matplotlib.pyplot as plt\n",
    "import seaborn as sns\n",
    "from tqdm import tqdm\n",
    "\n",
    "from sklearn.model_selection import train_test_split\n",
    "\n",
    "from torch.utils.data import DataLoader\n",
    "\n",
    "from google.cloud import bigquery"
   ]
  },
  {
   "cell_type": "code",
   "execution_count": 2,
   "id": "f944661a",
   "metadata": {},
   "outputs": [],
   "source": [
    "SQL = \"\"\"\n",
    "SELECT \n",
    "order_id,\n",
    "customer_merchant_id,\n",
    "product_id,\n",
    "item_name,\n",
    "DATE(order_time) as order_time\n",
    "FROM `warung-support.dwh_access.fact_odoo_sales_order`, UNNEST(order_items)\n",
    "WHERE order_status = 'sale'\n",
    "AND DATE(order_time) BETWEEN \"2021-01-01\" AND \"2021-03-31\"\n",
    "\"\"\"\n",
    "\n",
    "client = bigquery.Client()\n",
    "query_job = client.query(SQL).result()\n",
    "df = query_job.to_dataframe()"
   ]
  },
  {
   "cell_type": "code",
   "execution_count": 3,
   "id": "aa60ed6a",
   "metadata": {},
   "outputs": [
    {
     "data": {
      "text/html": [
       "<div>\n",
       "<style scoped>\n",
       "    .dataframe tbody tr th:only-of-type {\n",
       "        vertical-align: middle;\n",
       "    }\n",
       "\n",
       "    .dataframe tbody tr th {\n",
       "        vertical-align: top;\n",
       "    }\n",
       "\n",
       "    .dataframe thead th {\n",
       "        text-align: right;\n",
       "    }\n",
       "</style>\n",
       "<table border=\"1\" class=\"dataframe\">\n",
       "  <thead>\n",
       "    <tr style=\"text-align: right;\">\n",
       "      <th></th>\n",
       "      <th>order_id</th>\n",
       "      <th>customer_merchant_id</th>\n",
       "      <th>product_id</th>\n",
       "      <th>item_name</th>\n",
       "      <th>order_time</th>\n",
       "    </tr>\n",
       "  </thead>\n",
       "  <tbody>\n",
       "    <tr>\n",
       "      <th>0</th>\n",
       "      <td>WPD-SO766299</td>\n",
       "      <td>WP31317113702</td>\n",
       "      <td>WPD-12249</td>\n",
       "      <td>[RSO001] Roma Slai Olai Selai Blueberry 24gr</td>\n",
       "      <td>2021-02-22</td>\n",
       "    </tr>\n",
       "    <tr>\n",
       "      <th>1</th>\n",
       "      <td>WPD-SO766299</td>\n",
       "      <td>WP31317113702</td>\n",
       "      <td>WPD-18161</td>\n",
       "      <td>[OIS004] Oishi Pillows Ubi 7gr</td>\n",
       "      <td>2021-02-22</td>\n",
       "    </tr>\n",
       "    <tr>\n",
       "      <th>2</th>\n",
       "      <td>WPD-SO766299</td>\n",
       "      <td>WP31317113702</td>\n",
       "      <td>WPD-18155</td>\n",
       "      <td>[NUT016] Nutrijell Pudding Susu Powder Strawbe...</td>\n",
       "      <td>2021-02-22</td>\n",
       "    </tr>\n",
       "    <tr>\n",
       "      <th>3</th>\n",
       "      <td>WPD-SO766299</td>\n",
       "      <td>WP31317113702</td>\n",
       "      <td>WPD-9260</td>\n",
       "      <td>[ZIN004] Zinc Shampo Refreshing Cool 12ml</td>\n",
       "      <td>2021-02-22</td>\n",
       "    </tr>\n",
       "    <tr>\n",
       "      <th>4</th>\n",
       "      <td>WPD-SO766299</td>\n",
       "      <td>WP31317113702</td>\n",
       "      <td>WPD-9143</td>\n",
       "      <td>[PEP001] Pepsodent Jumbo Merah Pencegah Gigi B...</td>\n",
       "      <td>2021-02-22</td>\n",
       "    </tr>\n",
       "  </tbody>\n",
       "</table>\n",
       "</div>"
      ],
      "text/plain": [
       "       order_id customer_merchant_id product_id  \\\n",
       "0  WPD-SO766299        WP31317113702  WPD-12249   \n",
       "1  WPD-SO766299        WP31317113702  WPD-18161   \n",
       "2  WPD-SO766299        WP31317113702  WPD-18155   \n",
       "3  WPD-SO766299        WP31317113702   WPD-9260   \n",
       "4  WPD-SO766299        WP31317113702   WPD-9143   \n",
       "\n",
       "                                           item_name  order_time  \n",
       "0       [RSO001] Roma Slai Olai Selai Blueberry 24gr  2021-02-22  \n",
       "1                     [OIS004] Oishi Pillows Ubi 7gr  2021-02-22  \n",
       "2  [NUT016] Nutrijell Pudding Susu Powder Strawbe...  2021-02-22  \n",
       "3          [ZIN004] Zinc Shampo Refreshing Cool 12ml  2021-02-22  \n",
       "4  [PEP001] Pepsodent Jumbo Merah Pencegah Gigi B...  2021-02-22  "
      ]
     },
     "execution_count": 3,
     "metadata": {},
     "output_type": "execute_result"
    }
   ],
   "source": [
    "df.head()"
   ]
  },
  {
   "cell_type": "code",
   "execution_count": 4,
   "id": "e58d20f4",
   "metadata": {},
   "outputs": [],
   "source": [
    "d_transaction = df.groupby(by=[\"order_id\", \"customer_merchant_id\", \"order_time\"])[\"product_id\"].apply(list).reset_index()"
   ]
  },
  {
   "cell_type": "code",
   "execution_count": 5,
   "id": "0bfe5afd",
   "metadata": {},
   "outputs": [
    {
     "data": {
      "text/plain": [
       "(286650, 4)"
      ]
     },
     "execution_count": 5,
     "metadata": {},
     "output_type": "execute_result"
    }
   ],
   "source": [
    "d_transaction.shape"
   ]
  },
  {
   "cell_type": "code",
   "execution_count": 6,
   "id": "94a69045",
   "metadata": {},
   "outputs": [],
   "source": [
    "d_transaction = d_transaction.sort_values(by=[\"customer_merchant_id\", \"order_time\"]).copy()"
   ]
  },
  {
   "cell_type": "code",
   "execution_count": 7,
   "id": "9548942a",
   "metadata": {},
   "outputs": [
    {
     "data": {
      "text/plain": [
       "(46675,)"
      ]
     },
     "execution_count": 7,
     "metadata": {},
     "output_type": "execute_result"
    }
   ],
   "source": [
    "d_transaction.customer_merchant_id.unique().shape"
   ]
  },
  {
   "cell_type": "code",
   "execution_count": 8,
   "id": "9f318794",
   "metadata": {},
   "outputs": [
    {
     "data": {
      "text/plain": [
       "14118"
      ]
     },
     "execution_count": 8,
     "metadata": {},
     "output_type": "execute_result"
    }
   ],
   "source": [
    "(d_transaction.customer_merchant_id.value_counts() == 1).sum()"
   ]
  },
  {
   "cell_type": "code",
   "execution_count": 9,
   "id": "4cb72419",
   "metadata": {},
   "outputs": [],
   "source": [
    "# filter merchant id that had more than n transactions\n",
    "n_transaction = 4\n",
    "merchant_id_selected = [id_ for id_, value in (d_transaction.customer_merchant_id.value_counts() > n_transaction).items() if value]"
   ]
  },
  {
   "cell_type": "code",
   "execution_count": 10,
   "id": "604309fc",
   "metadata": {},
   "outputs": [],
   "source": [
    "d_transaction2 = d_transaction[d_transaction.customer_merchant_id.isin(merchant_id_selected)].copy()"
   ]
  },
  {
   "cell_type": "code",
   "execution_count": 11,
   "id": "90c321cd",
   "metadata": {},
   "outputs": [],
   "source": [
    "d_transaction3 = d_transaction2.groupby(\"customer_merchant_id\").tail()"
   ]
  },
  {
   "cell_type": "code",
   "execution_count": 12,
   "id": "b815a706",
   "metadata": {},
   "outputs": [],
   "source": [
    "d_transaction3 = d_transaction3.sort_values(by=['order_time', 'customer_merchant_id'])"
   ]
  },
  {
   "cell_type": "code",
   "execution_count": 13,
   "id": "1c2b3781",
   "metadata": {},
   "outputs": [],
   "source": [
    "d_transaction4 = d_transaction3.groupby(\n",
    "    'customer_merchant_id')['product_id'].apply(\n",
    "    lambda products: list(itertools.chain.from_iterable(products))).reset_index()"
   ]
  },
  {
   "cell_type": "code",
   "execution_count": 14,
   "id": "211c71e1",
   "metadata": {},
   "outputs": [],
   "source": [
    "product_ids = itertools.chain.from_iterable(d_transaction4.product_id.to_list())"
   ]
  },
  {
   "cell_type": "code",
   "execution_count": 15,
   "id": "37b7c71a",
   "metadata": {},
   "outputs": [],
   "source": [
    "product_ids = list(set(product_ids))"
   ]
  },
  {
   "cell_type": "code",
   "execution_count": 17,
   "id": "434968b5",
   "metadata": {},
   "outputs": [],
   "source": [
    "d_transaction4['product_idx'] = d_transaction4.product_id.apply(\n",
    "    lambda items: [product_ids.index(item) for item in items])"
   ]
  },
  {
   "cell_type": "code",
   "execution_count": 18,
   "id": "36ba2dcc",
   "metadata": {},
   "outputs": [],
   "source": [
    "d_transaction4['train'] = d_transaction4.product_idx.apply(lambda products: products[:-2])"
   ]
  },
  {
   "cell_type": "code",
   "execution_count": 19,
   "id": "9ff03fee",
   "metadata": {},
   "outputs": [],
   "source": [
    "d_transaction4['val'] = d_transaction4.product_idx.apply(lambda products: products[-2:-1])"
   ]
  },
  {
   "cell_type": "code",
   "execution_count": 20,
   "id": "4a34e4f9",
   "metadata": {},
   "outputs": [],
   "source": [
    "d_transaction4['test'] = d_transaction4.product_idx.apply(lambda products: products[-1:])"
   ]
  },
  {
   "cell_type": "code",
   "execution_count": 35,
   "id": "9a837726",
   "metadata": {},
   "outputs": [],
   "source": [
    "def generate_negative_sample(product_idx):\n",
    "    items = set(list(range(len(product_ids)))) - set(product_idx)\n",
    "    return random.sample(items, 100)"
   ]
  },
  {
   "cell_type": "code",
   "execution_count": 36,
   "id": "4b627182",
   "metadata": {},
   "outputs": [],
   "source": [
    "d_transaction4['neg_sample'] = d_transaction4.product_idx.apply(generate_negative_sample)"
   ]
  },
  {
   "cell_type": "code",
   "execution_count": 37,
   "id": "30374eba",
   "metadata": {},
   "outputs": [
    {
     "data": {
      "text/html": [
       "<div>\n",
       "<style scoped>\n",
       "    .dataframe tbody tr th:only-of-type {\n",
       "        vertical-align: middle;\n",
       "    }\n",
       "\n",
       "    .dataframe tbody tr th {\n",
       "        vertical-align: top;\n",
       "    }\n",
       "\n",
       "    .dataframe thead th {\n",
       "        text-align: right;\n",
       "    }\n",
       "</style>\n",
       "<table border=\"1\" class=\"dataframe\">\n",
       "  <thead>\n",
       "    <tr style=\"text-align: right;\">\n",
       "      <th></th>\n",
       "      <th>customer_merchant_id</th>\n",
       "      <th>product_id</th>\n",
       "      <th>product_idx</th>\n",
       "      <th>train</th>\n",
       "      <th>val</th>\n",
       "      <th>test</th>\n",
       "      <th>neg_sample</th>\n",
       "      <th>train_len</th>\n",
       "    </tr>\n",
       "  </thead>\n",
       "  <tbody>\n",
       "    <tr>\n",
       "      <th>0</th>\n",
       "      <td>WP101400604</td>\n",
       "      <td>[WPD-5003, WPD-4840, WPD-5525, WPD-5010, WPD-5...</td>\n",
       "      <td>[4505, 4408, 567, 5477, 3512, 3341, 3611, 2217...</td>\n",
       "      <td>[4505, 4408, 567, 5477, 3512, 3341, 3611, 2217...</td>\n",
       "      <td>[2892]</td>\n",
       "      <td>[225]</td>\n",
       "      <td>[920, 4949, 1876, 2138, 3741, 911, 4105, 1659,...</td>\n",
       "      <td>81</td>\n",
       "    </tr>\n",
       "    <tr>\n",
       "      <th>1</th>\n",
       "      <td>WP102100601</td>\n",
       "      <td>[WPD-12986, WPD-18171, WPD-9272, WPD-4876, WPD...</td>\n",
       "      <td>[2217, 2702, 4464, 1421, 623, 4159, 5019, 2177...</td>\n",
       "      <td>[2217, 2702, 4464, 1421, 623, 4159, 5019, 2177...</td>\n",
       "      <td>[2217]</td>\n",
       "      <td>[2177]</td>\n",
       "      <td>[4689, 4619, 1668, 455, 5027, 5469, 2767, 4274...</td>\n",
       "      <td>10</td>\n",
       "    </tr>\n",
       "    <tr>\n",
       "      <th>2</th>\n",
       "      <td>WP102100602</td>\n",
       "      <td>[WPD-15793, WPD-5512, WPD-13004, WPD-4995, WPD...</td>\n",
       "      <td>[616, 4306, 1240, 3570, 2664, 1444, 1421, 1534...</td>\n",
       "      <td>[616, 4306, 1240, 3570, 2664, 1444, 1421, 1534...</td>\n",
       "      <td>[4617]</td>\n",
       "      <td>[5494]</td>\n",
       "      <td>[3172, 4739, 194, 5535, 4239, 1689, 4076, 4694...</td>\n",
       "      <td>68</td>\n",
       "    </tr>\n",
       "    <tr>\n",
       "      <th>3</th>\n",
       "      <td>WP102200601</td>\n",
       "      <td>[WPD-13130, WPD-4803, WPD-5019, WPD-14292, WPD...</td>\n",
       "      <td>[1859, 1628, 799, 2191, 469, 2177, 1120, 484, ...</td>\n",
       "      <td>[1859, 1628, 799, 2191, 469, 2177, 1120, 484, ...</td>\n",
       "      <td>[1060]</td>\n",
       "      <td>[469]</td>\n",
       "      <td>[4902, 5368, 1895, 2408, 4507, 4329, 917, 2050...</td>\n",
       "      <td>42</td>\n",
       "    </tr>\n",
       "    <tr>\n",
       "      <th>4</th>\n",
       "      <td>WP102200604</td>\n",
       "      <td>[WPD-18223, WPD-18112, WPD-18074, WPD-18221, W...</td>\n",
       "      <td>[1465, 826, 1995, 1186, 1186, 1995, 1465, 4798...</td>\n",
       "      <td>[1465, 826, 1995, 1186, 1186, 1995, 1465, 4798...</td>\n",
       "      <td>[826]</td>\n",
       "      <td>[4798]</td>\n",
       "      <td>[3379, 3325, 2346, 614, 3718, 5506, 1884, 2538...</td>\n",
       "      <td>18</td>\n",
       "    </tr>\n",
       "  </tbody>\n",
       "</table>\n",
       "</div>"
      ],
      "text/plain": [
       "  customer_merchant_id                                         product_id  \\\n",
       "0          WP101400604  [WPD-5003, WPD-4840, WPD-5525, WPD-5010, WPD-5...   \n",
       "1          WP102100601  [WPD-12986, WPD-18171, WPD-9272, WPD-4876, WPD...   \n",
       "2          WP102100602  [WPD-15793, WPD-5512, WPD-13004, WPD-4995, WPD...   \n",
       "3          WP102200601  [WPD-13130, WPD-4803, WPD-5019, WPD-14292, WPD...   \n",
       "4          WP102200604  [WPD-18223, WPD-18112, WPD-18074, WPD-18221, W...   \n",
       "\n",
       "                                         product_idx  \\\n",
       "0  [4505, 4408, 567, 5477, 3512, 3341, 3611, 2217...   \n",
       "1  [2217, 2702, 4464, 1421, 623, 4159, 5019, 2177...   \n",
       "2  [616, 4306, 1240, 3570, 2664, 1444, 1421, 1534...   \n",
       "3  [1859, 1628, 799, 2191, 469, 2177, 1120, 484, ...   \n",
       "4  [1465, 826, 1995, 1186, 1186, 1995, 1465, 4798...   \n",
       "\n",
       "                                               train     val    test  \\\n",
       "0  [4505, 4408, 567, 5477, 3512, 3341, 3611, 2217...  [2892]   [225]   \n",
       "1  [2217, 2702, 4464, 1421, 623, 4159, 5019, 2177...  [2217]  [2177]   \n",
       "2  [616, 4306, 1240, 3570, 2664, 1444, 1421, 1534...  [4617]  [5494]   \n",
       "3  [1859, 1628, 799, 2191, 469, 2177, 1120, 484, ...  [1060]   [469]   \n",
       "4  [1465, 826, 1995, 1186, 1186, 1995, 1465, 4798...   [826]  [4798]   \n",
       "\n",
       "                                          neg_sample  train_len  \n",
       "0  [920, 4949, 1876, 2138, 3741, 911, 4105, 1659,...         81  \n",
       "1  [4689, 4619, 1668, 455, 5027, 5469, 2767, 4274...         10  \n",
       "2  [3172, 4739, 194, 5535, 4239, 1689, 4076, 4694...         68  \n",
       "3  [4902, 5368, 1895, 2408, 4507, 4329, 917, 2050...         42  \n",
       "4  [3379, 3325, 2346, 614, 3718, 5506, 1884, 2538...         18  "
      ]
     },
     "execution_count": 37,
     "metadata": {},
     "output_type": "execute_result"
    }
   ],
   "source": [
    "d_transaction4.head()"
   ]
  },
  {
   "cell_type": "code",
   "execution_count": 38,
   "id": "affe7f76",
   "metadata": {},
   "outputs": [],
   "source": [
    "d_transaction4['train_len'] = d_transaction4.train.apply(len)"
   ]
  },
  {
   "cell_type": "code",
   "execution_count": 39,
   "id": "174ddcff",
   "metadata": {},
   "outputs": [
    {
     "data": {
      "text/plain": [
       "<matplotlib.axes._subplots.AxesSubplot at 0x20b8eadd278>"
      ]
     },
     "execution_count": 39,
     "metadata": {},
     "output_type": "execute_result"
    },
    {
     "data": {
      "image/png": "[encoded data removed]",
      "text/plain": [
       "<Figure size 432x288 with 1 Axes>"
      ]
     },
     "metadata": {
      "needs_background": "light"
     },
     "output_type": "display_data"
    }
   ],
   "source": [
    "sns.distplot(d_transaction4.train_len)"
   ]
  },
  {
   "cell_type": "markdown",
   "id": "06ce8e3d",
   "metadata": {},
   "source": [
    "### Data Loaders"
   ]
  },
  {
   "cell_type": "code",
   "execution_count": 40,
   "id": "c822ad69",
   "metadata": {},
   "outputs": [],
   "source": [
    "args = Namespace(\n",
    "    \n",
    "    # Top Level\n",
    "    mode='train',\n",
    "    template=None,\n",
    "    \n",
    "    # Test\n",
    "    test_model_path=None,\n",
    "    \n",
    "    # Dataset\n",
    "    dataset_code='ml-1m',\n",
    "    min_rating=4,\n",
    "    min_uc=5,\n",
    "    min_sc=0,\n",
    "    split='leave_one_out',\n",
    "    \n",
    "    # Dataloader\n",
    "    dataloader_code='bert',\n",
    "    dataloader_random_seed=0.0,\n",
    "    train_batch_size=64,\n",
    "    val_batch_size=64,\n",
    "    test_batch_size=64,\n",
    "    \n",
    "    # Negative Sampler\n",
    "    train_negative_sampler_code='random',\n",
    "    train_negative_sample_size=100,\n",
    "    train_negative_sampling_seed=42,\n",
    "    test_negative_sampler_code='random',\n",
    "    test_negative_sample_size=100,\n",
    "    test_negative_sampling_seed=42,\n",
    "    \n",
    "    # Trainer\n",
    "    trainer_code='bert',\n",
    "    device='cpu',\n",
    "    num_gpu=1,\n",
    "    device_idx='0',\n",
    "    optimizer='Adam',\n",
    "    lr=0.001,\n",
    "    weight_decay=0,\n",
    "    momentum=None,\n",
    "    decay_step=15,\n",
    "    gamma=0.1,\n",
    "    num_epochs=100,\n",
    "    log_period_as_iter=12800,\n",
    "    metric_ks=[10], # [10, 20, 50]\n",
    "    best_metric='NDCG@10',\n",
    "    \n",
    "    # Model\n",
    "    model_code='bert',\n",
    "    model_init_seed=42,\n",
    "    bert_max_len=32,\n",
    "    bert_num_items=len(product_ids),\n",
    "    bert_hidden_units=32,\n",
    "    bert_num_blocks=1,\n",
    "    bert_num_heads=1,\n",
    "    bert_dropout=0.0,\n",
    "    bert_mask_prob=0.1,\n",
    "    \n",
    "    # Experiment\n",
    "    experiment_dir='experiments',\n",
    "    experiment_description='test'\n",
    ")"
   ]
  },
  {
   "cell_type": "code",
   "execution_count": 41,
   "id": "147479af",
   "metadata": {},
   "outputs": [],
   "source": [
    "train_seq = d_transaction4.train.to_dict()"
   ]
  },
  {
   "cell_type": "code",
   "execution_count": 42,
   "id": "0f657371",
   "metadata": {},
   "outputs": [],
   "source": [
    "val_seq = d_transaction4.val.to_dict()"
   ]
  },
  {
   "cell_type": "code",
   "execution_count": 43,
   "id": "067d9748",
   "metadata": {},
   "outputs": [],
   "source": [
    "test_seq = d_transaction4.test.to_dict()"
   ]
  },
  {
   "cell_type": "code",
   "execution_count": 44,
   "id": "6da39fd6",
   "metadata": {},
   "outputs": [],
   "source": [
    "negative_samples = d_transaction4.neg_sample.to_dict()"
   ]
  },
  {
   "cell_type": "code",
   "execution_count": 45,
   "id": "6a2d0499",
   "metadata": {},
   "outputs": [],
   "source": [
    "from utils import setup_train\n",
    "from models import model_factory\n",
    "from dataloaders.bert import BertTrainDataset, BertEvalDataset\n",
    "from trainers import trainer_factory"
   ]
  },
  {
   "cell_type": "code",
   "execution_count": 46,
   "id": "c694e97b",
   "metadata": {
    "scrolled": true
   },
   "outputs": [
    {
     "name": "stdout",
     "output_type": "stream",
     "text": [
      "Folder created: C:\\Users\\Andreas Chandra\\Documents\\PythonNotebook\\recsys_ref\\BERT4Rec-PyTorch\\experiments\\test_2021-08-24_0\n",
      "{'bert_dropout': 0.0,\n",
      " 'bert_hidden_units': 32,\n",
      " 'bert_mask_prob': 0.1,\n",
      " 'bert_max_len': 32,\n",
      " 'bert_num_blocks': 1,\n",
      " 'bert_num_heads': 1,\n",
      " 'bert_num_items': 5543,\n",
      " 'best_metric': 'NDCG@10',\n",
      " 'dataloader_code': 'bert',\n",
      " 'dataloader_random_seed': 0.0,\n",
      " 'dataset_code': 'ml-1m',\n",
      " 'decay_step': 15,\n",
      " 'device': 'cpu',\n",
      " 'device_idx': '0',\n",
      " 'experiment_description': 'test',\n",
      " 'experiment_dir': 'experiments',\n",
      " 'gamma': 0.1,\n",
      " 'log_period_as_iter': 12800,\n",
      " 'lr': 0.001,\n",
      " 'metric_ks': [10],\n",
      " 'min_rating': 4,\n",
      " 'min_sc': 0,\n",
      " 'min_uc': 5,\n",
      " 'mode': 'train',\n",
      " 'model_code': 'bert',\n",
      " 'model_init_seed': 42,\n",
      " 'num_epochs': 100,\n",
      " 'num_gpu': 1,\n",
      " 'optimizer': 'Adam',\n",
      " 'split': 'leave_one_out',\n",
      " 'test_batch_size': 64,\n",
      " 'test_negative_sample_size': 100,\n",
      " 'test_negative_sampler_code': 'random',\n",
      " 'test_negative_sampling_seed': 42,\n",
      " 'train_batch_size': 64,\n",
      " 'train_negative_sample_size': 100,\n",
      " 'train_negative_sampler_code': 'random',\n",
      " 'train_negative_sampling_seed': 42,\n",
      " 'trainer_code': 'bert',\n",
      " 'val_batch_size': 64,\n",
      " 'weight_decay': 0}\n"
     ]
    }
   ],
   "source": [
    "export_root = setup_train(args)"
   ]
  },
  {
   "cell_type": "code",
   "execution_count": 47,
   "id": "9dc8b0d5",
   "metadata": {},
   "outputs": [],
   "source": [
    "model = model_factory(args)"
   ]
  },
  {
   "cell_type": "code",
   "execution_count": 48,
   "id": "53195da5",
   "metadata": {},
   "outputs": [],
   "source": [
    "rng = random.Random(args.dataloader_random_seed)"
   ]
  },
  {
   "cell_type": "code",
   "execution_count": 49,
   "id": "f6a99c3d",
   "metadata": {},
   "outputs": [],
   "source": [
    "train_dataset = BertTrainDataset(train_seq, args.bert_max_len, args.bert_mask_prob, \n",
    "                                 len(product_ids)+1, len(product_ids), rng)\n",
    "train_loader = DataLoader(train_dataset, batch_size=args.train_batch_size, shuffle=True)"
   ]
  },
  {
   "cell_type": "code",
   "execution_count": 50,
   "id": "3bf326ad",
   "metadata": {},
   "outputs": [],
   "source": [
    "val_dataset = BertEvalDataset(train_seq, val_seq, args.bert_max_len, len(product_ids)+1, negative_samples)\n",
    "val_loader = DataLoader(val_dataset, batch_size=args.val_batch_size, shuffle=True)"
   ]
  },
  {
   "cell_type": "code",
   "execution_count": 51,
   "id": "450c921b",
   "metadata": {},
   "outputs": [],
   "source": [
    "test_dataset = BertEvalDataset(train_seq, test_seq, args.bert_max_len, len(product_ids)+1, negative_samples)\n",
    "test_loader = DataLoader(test_dataset, batch_size=args.val_batch_size, shuffle=True)"
   ]
  },
  {
   "cell_type": "code",
   "execution_count": 52,
   "id": "737e8c6c",
   "metadata": {},
   "outputs": [],
   "source": [
    "batch = next(iter(val_loader))"
   ]
  },
  {
   "cell_type": "code",
   "execution_count": 53,
   "id": "2f7b61a5",
   "metadata": {},
   "outputs": [],
   "source": [
    "seq, candidates, labels = batch"
   ]
  },
  {
   "cell_type": "code",
   "execution_count": 54,
   "id": "5e0beeaa",
   "metadata": {},
   "outputs": [
    {
     "data": {
      "text/plain": [
       "tensor([[1, 0, 0,  ..., 0, 0, 0],\n",
       "        [1, 0, 0,  ..., 0, 0, 0],\n",
       "        [1, 0, 0,  ..., 0, 0, 0],\n",
       "        ...,\n",
       "        [1, 0, 0,  ..., 0, 0, 0],\n",
       "        [1, 0, 0,  ..., 0, 0, 0],\n",
       "        [1, 0, 0,  ..., 0, 0, 0]])"
      ]
     },
     "execution_count": 54,
     "metadata": {},
     "output_type": "execute_result"
    }
   ],
   "source": [
    "labels"
   ]
  },
  {
   "cell_type": "code",
   "execution_count": 55,
   "id": "b25e81c0",
   "metadata": {},
   "outputs": [],
   "source": [
    "trainer = trainer_factory(\n",
    "        args, model, train_loader, val_loader, test_loader, export_root)"
   ]
  },
  {
   "cell_type": "code",
   "execution_count": 56,
   "id": "b33f8804",
   "metadata": {
    "scrolled": true
   },
   "outputs": [
    {
     "name": "stderr",
     "output_type": "stream",
     "text": [
      "Val: N@10 0.045, R@10 0.102: 100%|█████████████████████████████████████████| 247/247 [00:11<00:00, 21.85it/s]\n",
      "  0%|                                                                                | 0/247 [00:00<?, ?it/s]"
     ]
    },
    {
     "name": "stdout",
     "output_type": "stream",
     "text": [
      "Update Best NDCG@10 Model at 0\n"
     ]
    },
    {
     "name": "stderr",
     "output_type": "stream",
     "text": [
      "Epoch 1, loss 7.944 : 100%|████████████████████████████████████████████████| 247/247 [00:49<00:00,  4.95it/s]\n",
      "Val: N@10 0.414, R@10 0.661: 100%|█████████████████████████████████████████| 247/247 [00:10<00:00, 22.46it/s]\n",
      "  0%|                                                                                | 0/247 [00:00<?, ?it/s]"
     ]
    },
    {
     "name": "stdout",
     "output_type": "stream",
     "text": [
      "Update Best NDCG@10 Model at 0\n"
     ]
    },
    {
     "name": "stderr",
     "output_type": "stream",
     "text": [
      "Epoch 2, loss 7.406 : 100%|████████████████████████████████████████████████| 247/247 [00:49<00:00,  4.99it/s]\n",
      "Val: N@10 0.436, R@10 0.683: 100%|█████████████████████████████████████████| 247/247 [00:10<00:00, 23.36it/s]\n",
      "Epoch 3, loss 7.383 :   0%|                                                          | 0/247 [00:00<?, ?it/s]"
     ]
    },
    {
     "name": "stdout",
     "output_type": "stream",
     "text": [
      "Update Best NDCG@10 Model at 1\n"
     ]
    },
    {
     "name": "stderr",
     "output_type": "stream",
     "text": [
      "Epoch 3, loss 7.150 : 100%|████████████████████████████████████████████████| 247/247 [00:56<00:00,  4.41it/s]\n",
      "Val: N@10 0.552, R@10 0.774: 100%|█████████████████████████████████████████| 247/247 [00:11<00:00, 20.74it/s]\n",
      "  0%|                                                                                | 0/247 [00:00<?, ?it/s]"
     ]
    },
    {
     "name": "stdout",
     "output_type": "stream",
     "text": [
      "Update Best NDCG@10 Model at 2\n"
     ]
    },
    {
     "name": "stderr",
     "output_type": "stream",
     "text": [
      "Epoch 4, loss 6.545 : 100%|████████████████████████████████████████████████| 247/247 [00:52<00:00,  4.67it/s]\n",
      "Val: N@10 0.654, R@10 0.862: 100%|█████████████████████████████████████████| 247/247 [00:13<00:00, 18.75it/s]\n",
      "  0%|                                                                                | 0/247 [00:00<?, ?it/s]"
     ]
    },
    {
     "name": "stdout",
     "output_type": "stream",
     "text": [
      "Update Best NDCG@10 Model at 3\n"
     ]
    },
    {
     "name": "stderr",
     "output_type": "stream",
     "text": [
      "Epoch 5, loss 6.051 : 100%|████████████████████████████████████████████████| 247/247 [00:57<00:00,  4.28it/s]\n",
      "Val: N@10 0.703, R@10 0.898: 100%|█████████████████████████████████████████| 247/247 [00:12<00:00, 19.30it/s]\n",
      "  0%|                                                                                | 0/247 [00:00<?, ?it/s]"
     ]
    },
    {
     "name": "stdout",
     "output_type": "stream",
     "text": [
      "Update Best NDCG@10 Model at 4\n"
     ]
    },
    {
     "name": "stderr",
     "output_type": "stream",
     "text": [
      "Epoch 6, loss 5.785 : 100%|████████████████████████████████████████████████| 247/247 [00:58<00:00,  4.25it/s]\n",
      "Val: N@10 0.737, R@10 0.923: 100%|█████████████████████████████████████████| 247/247 [00:13<00:00, 18.09it/s]\n",
      "  0%|                                                                                | 0/247 [00:00<?, ?it/s]"
     ]
    },
    {
     "name": "stdout",
     "output_type": "stream",
     "text": [
      "Update Best NDCG@10 Model at 5\n"
     ]
    },
    {
     "name": "stderr",
     "output_type": "stream",
     "text": [
      "Epoch 7, loss 5.635 : 100%|████████████████████████████████████████████████| 247/247 [01:00<00:00,  4.11it/s]\n",
      "Val: N@10 0.753, R@10 0.940: 100%|█████████████████████████████████████████| 247/247 [00:13<00:00, 17.87it/s]\n",
      "  0%|                                                                                | 0/247 [00:00<?, ?it/s]"
     ]
    },
    {
     "name": "stdout",
     "output_type": "stream",
     "text": [
      "Update Best NDCG@10 Model at 6\n"
     ]
    },
    {
     "name": "stderr",
     "output_type": "stream",
     "text": [
      "Epoch 8, loss 5.527 : 100%|████████████████████████████████████████████████| 247/247 [01:01<00:00,  4.02it/s]\n",
      "Val: N@10 0.771, R@10 0.950: 100%|█████████████████████████████████████████| 247/247 [00:12<00:00, 20.02it/s]\n",
      "  0%|                                                                                | 0/247 [00:00<?, ?it/s]"
     ]
    },
    {
     "name": "stdout",
     "output_type": "stream",
     "text": [
      "Update Best NDCG@10 Model at 7\n"
     ]
    },
    {
     "name": "stderr",
     "output_type": "stream",
     "text": [
      "Epoch 9, loss 5.458 : 100%|████████████████████████████████████████████████| 247/247 [01:00<00:00,  4.09it/s]\n",
      "Val: N@10 0.780, R@10 0.957: 100%|█████████████████████████████████████████| 247/247 [00:13<00:00, 18.91it/s]\n",
      "  0%|                                                                                | 0/247 [00:00<?, ?it/s]"
     ]
    },
    {
     "name": "stdout",
     "output_type": "stream",
     "text": [
      "Update Best NDCG@10 Model at 8\n"
     ]
    },
    {
     "name": "stderr",
     "output_type": "stream",
     "text": [
      "Epoch 10, loss 5.383 : 100%|███████████████████████████████████████████████| 247/247 [01:02<00:00,  3.98it/s]\n",
      "Val: N@10 0.790, R@10 0.965: 100%|█████████████████████████████████████████| 247/247 [00:13<00:00, 18.07it/s]\n",
      "  0%|                                                                                | 0/247 [00:00<?, ?it/s]"
     ]
    },
    {
     "name": "stdout",
     "output_type": "stream",
     "text": [
      "Update Best NDCG@10 Model at 9\n"
     ]
    },
    {
     "name": "stderr",
     "output_type": "stream",
     "text": [
      "Epoch 11, loss 5.333 : 100%|███████████████████████████████████████████████| 247/247 [01:01<00:00,  4.03it/s]\n",
      "Val: N@10 0.793, R@10 0.968: 100%|█████████████████████████████████████████| 247/247 [00:13<00:00, 18.28it/s]\n",
      "  0%|                                                                                | 0/247 [00:00<?, ?it/s]"
     ]
    },
    {
     "name": "stdout",
     "output_type": "stream",
     "text": [
      "Update Best NDCG@10 Model at 10\n"
     ]
    },
    {
     "name": "stderr",
     "output_type": "stream",
     "text": [
      "Epoch 12, loss 5.307 : 100%|███████████████████████████████████████████████| 247/247 [00:59<00:00,  4.13it/s]\n",
      "Val: N@10 0.799, R@10 0.971: 100%|█████████████████████████████████████████| 247/247 [00:13<00:00, 18.20it/s]\n",
      "  0%|                                                                                | 0/247 [00:00<?, ?it/s]"
     ]
    },
    {
     "name": "stdout",
     "output_type": "stream",
     "text": [
      "Update Best NDCG@10 Model at 11\n"
     ]
    },
    {
     "name": "stderr",
     "output_type": "stream",
     "text": [
      "Epoch 13, loss 5.257 : 100%|███████████████████████████████████████████████| 247/247 [00:57<00:00,  4.29it/s]\n",
      "Val: N@10 0.803, R@10 0.975: 100%|█████████████████████████████████████████| 247/247 [00:12<00:00, 19.40it/s]\n",
      "  0%|                                                                                | 0/247 [00:00<?, ?it/s]"
     ]
    },
    {
     "name": "stdout",
     "output_type": "stream",
     "text": [
      "Update Best NDCG@10 Model at 12\n"
     ]
    },
    {
     "name": "stderr",
     "output_type": "stream",
     "text": [
      "Epoch 14, loss 5.219 : 100%|███████████████████████████████████████████████| 247/247 [01:00<00:00,  4.06it/s]\n",
      "Val: N@10 0.805, R@10 0.976: 100%|█████████████████████████████████████████| 247/247 [00:13<00:00, 18.11it/s]\n",
      "  0%|                                                                                | 0/247 [00:00<?, ?it/s]"
     ]
    },
    {
     "name": "stdout",
     "output_type": "stream",
     "text": [
      "Update Best NDCG@10 Model at 13\n"
     ]
    },
    {
     "name": "stderr",
     "output_type": "stream",
     "text": [
      "Epoch 15, loss 5.205 : 100%|███████████████████████████████████████████████| 247/247 [00:59<00:00,  4.14it/s]\n",
      "Val: N@10 0.811, R@10 0.977: 100%|█████████████████████████████████████████| 247/247 [00:15<00:00, 16.11it/s]\n",
      "  0%|                                                                                | 0/247 [00:00<?, ?it/s]"
     ]
    },
    {
     "name": "stdout",
     "output_type": "stream",
     "text": [
      "Update Best NDCG@10 Model at 14\n"
     ]
    },
    {
     "name": "stderr",
     "output_type": "stream",
     "text": [
      "Epoch 16, loss 5.146 : 100%|███████████████████████████████████████████████| 247/247 [01:02<00:00,  3.95it/s]\n",
      "Val: N@10 0.817, R@10 0.978: 100%|█████████████████████████████████████████| 247/247 [00:13<00:00, 18.52it/s]\n",
      "  0%|                                                                                | 0/247 [00:00<?, ?it/s]"
     ]
    },
    {
     "name": "stdout",
     "output_type": "stream",
     "text": [
      "Update Best NDCG@10 Model at 15\n"
     ]
    },
    {
     "name": "stderr",
     "output_type": "stream",
     "text": [
      "Epoch 17, loss 5.121 : 100%|███████████████████████████████████████████████| 247/247 [00:59<00:00,  4.18it/s]\n",
      "Val: N@10 0.821, R@10 0.979: 100%|█████████████████████████████████████████| 247/247 [00:13<00:00, 18.96it/s]\n",
      "  0%|                                                                                | 0/247 [00:00<?, ?it/s]"
     ]
    },
    {
     "name": "stdout",
     "output_type": "stream",
     "text": [
      "Update Best NDCG@10 Model at 16\n"
     ]
    },
    {
     "name": "stderr",
     "output_type": "stream",
     "text": [
      "Epoch 18, loss 5.081 : 100%|███████████████████████████████████████████████| 247/247 [01:02<00:00,  3.96it/s]\n",
      "Val: N@10 0.822, R@10 0.980: 100%|█████████████████████████████████████████| 247/247 [00:11<00:00, 21.40it/s]\n",
      "  0%|                                                                                | 0/247 [00:00<?, ?it/s]"
     ]
    },
    {
     "name": "stdout",
     "output_type": "stream",
     "text": [
      "Update Best NDCG@10 Model at 17\n"
     ]
    },
    {
     "name": "stderr",
     "output_type": "stream",
     "text": [
      "Epoch 19, loss 5.080 : 100%|███████████████████████████████████████████████| 247/247 [01:00<00:00,  4.11it/s]\n",
      "Val: N@10 0.823, R@10 0.980: 100%|█████████████████████████████████████████| 247/247 [00:13<00:00, 18.30it/s]\n",
      "  0%|                                                                                | 0/247 [00:00<?, ?it/s]"
     ]
    },
    {
     "name": "stdout",
     "output_type": "stream",
     "text": [
      "Update Best NDCG@10 Model at 18\n"
     ]
    },
    {
     "name": "stderr",
     "output_type": "stream",
     "text": [
      "Epoch 20, loss 5.079 : 100%|███████████████████████████████████████████████| 247/247 [01:02<00:00,  3.96it/s]\n",
      "Val: N@10 0.823, R@10 0.980: 100%|█████████████████████████████████████████| 247/247 [00:14<00:00, 17.60it/s]\n",
      "  0%|                                                                                | 0/247 [00:00<?, ?it/s]"
     ]
    },
    {
     "name": "stdout",
     "output_type": "stream",
     "text": [
      "Update Best NDCG@10 Model at 19\n"
     ]
    },
    {
     "name": "stderr",
     "output_type": "stream",
     "text": [
      "Epoch 21, loss 5.077 : 100%|███████████████████████████████████████████████| 247/247 [00:53<00:00,  4.66it/s]\n",
      "Val: N@10 0.824, R@10 0.981: 100%|█████████████████████████████████████████| 247/247 [00:11<00:00, 21.57it/s]\n",
      "  0%|                                                                                | 0/247 [00:00<?, ?it/s]"
     ]
    },
    {
     "name": "stdout",
     "output_type": "stream",
     "text": [
      "Update Best NDCG@10 Model at 20\n"
     ]
    },
    {
     "name": "stderr",
     "output_type": "stream",
     "text": [
      "Epoch 22, loss 5.048 : 100%|███████████████████████████████████████████████| 247/247 [00:51<00:00,  4.76it/s]\n",
      "Val: N@10 0.825, R@10 0.981: 100%|█████████████████████████████████████████| 247/247 [00:11<00:00, 21.27it/s]\n",
      "Epoch 23, loss 4.887 :   0%|                                                         | 0/247 [00:00<?, ?it/s]"
     ]
    },
    {
     "name": "stdout",
     "output_type": "stream",
     "text": [
      "Update Best NDCG@10 Model at 21\n"
     ]
    },
    {
     "name": "stderr",
     "output_type": "stream",
     "text": [
      "Epoch 23, loss 5.055 : 100%|███████████████████████████████████████████████| 247/247 [00:51<00:00,  4.84it/s]\n",
      "Val: N@10 0.826, R@10 0.981: 100%|█████████████████████████████████████████| 247/247 [00:11<00:00, 21.89it/s]\n",
      "Epoch 24, loss 5.110 :   0%|                                                         | 0/247 [00:00<?, ?it/s]"
     ]
    },
    {
     "name": "stdout",
     "output_type": "stream",
     "text": [
      "Update Best NDCG@10 Model at 22\n"
     ]
    },
    {
     "name": "stderr",
     "output_type": "stream",
     "text": [
      "Epoch 24, loss 5.053 : 100%|███████████████████████████████████████████████| 247/247 [00:50<00:00,  4.85it/s]\n",
      "Val: N@10 0.826, R@10 0.982: 100%|█████████████████████████████████████████| 247/247 [00:11<00:00, 20.90it/s]\n",
      "Epoch 25, loss 5.039 : 100%|███████████████████████████████████████████████| 247/247 [00:51<00:00,  4.80it/s]\n",
      "Val: N@10 0.827, R@10 0.982: 100%|█████████████████████████████████████████| 247/247 [00:11<00:00, 22.36it/s]\n",
      "  0%|                                                                                | 0/247 [00:00<?, ?it/s]"
     ]
    },
    {
     "name": "stdout",
     "output_type": "stream",
     "text": [
      "Update Best NDCG@10 Model at 24\n"
     ]
    },
    {
     "name": "stderr",
     "output_type": "stream",
     "text": [
      "Epoch 26, loss 5.019 : 100%|███████████████████████████████████████████████| 247/247 [00:55<00:00,  4.45it/s]\n",
      "Val: N@10 0.826, R@10 0.982: 100%|█████████████████████████████████████████| 247/247 [00:12<00:00, 19.70it/s]\n",
      "Epoch 27, loss 5.005 :   1%|▍                                                | 2/247 [00:00<00:59,  4.10it/s]\n"
     ]
    },
    {
     "ename": "KeyboardInterrupt",
     "evalue": "",
     "output_type": "error",
     "traceback": [
      "\u001b[1;31m---------------------------------------------------------------------------\u001b[0m",
      "\u001b[1;31mKeyboardInterrupt\u001b[0m                         Traceback (most recent call last)",
      "\u001b[1;32m<ipython-input-56-3435b262f1ae>\u001b[0m in \u001b[0;36m<module>\u001b[1;34m\u001b[0m\n\u001b[1;32m----> 1\u001b[1;33m \u001b[0mtrainer\u001b[0m\u001b[1;33m.\u001b[0m\u001b[0mtrain\u001b[0m\u001b[1;33m(\u001b[0m\u001b[1;33m)\u001b[0m\u001b[1;33m\u001b[0m\u001b[1;33m\u001b[0m\u001b[0m\n\u001b[0m",
      "\u001b[1;32m~\\Documents\\PythonNotebook\\recsys_ref\\BERT4Rec-PyTorch\\trainers\\base.py\u001b[0m in \u001b[0;36mtrain\u001b[1;34m(self)\u001b[0m\n\u001b[0;32m     67\u001b[0m \u001b[1;33m\u001b[0m\u001b[0m\n\u001b[0;32m     68\u001b[0m         \u001b[1;32mfor\u001b[0m \u001b[0mepoch\u001b[0m \u001b[1;32min\u001b[0m \u001b[0mrange\u001b[0m\u001b[1;33m(\u001b[0m\u001b[0mself\u001b[0m\u001b[1;33m.\u001b[0m\u001b[0mnum_epochs\u001b[0m\u001b[1;33m)\u001b[0m\u001b[1;33m:\u001b[0m\u001b[1;33m\u001b[0m\u001b[1;33m\u001b[0m\u001b[0m\n\u001b[1;32m---> 69\u001b[1;33m             \u001b[0maccum_iter\u001b[0m \u001b[1;33m=\u001b[0m \u001b[0mself\u001b[0m\u001b[1;33m.\u001b[0m\u001b[0mtrain_one_epoch\u001b[0m\u001b[1;33m(\u001b[0m\u001b[0mepoch\u001b[0m\u001b[1;33m,\u001b[0m \u001b[0maccum_iter\u001b[0m\u001b[1;33m)\u001b[0m\u001b[1;33m\u001b[0m\u001b[1;33m\u001b[0m\u001b[0m\n\u001b[0m\u001b[0;32m     70\u001b[0m             \u001b[0mself\u001b[0m\u001b[1;33m.\u001b[0m\u001b[0mvalidate\u001b[0m\u001b[1;33m(\u001b[0m\u001b[0mepoch\u001b[0m\u001b[1;33m,\u001b[0m \u001b[0maccum_iter\u001b[0m\u001b[1;33m)\u001b[0m\u001b[1;33m\u001b[0m\u001b[1;33m\u001b[0m\u001b[0m\n\u001b[0;32m     71\u001b[0m             \u001b[0mself\u001b[0m\u001b[1;33m.\u001b[0m\u001b[0mlr_scheduler\u001b[0m\u001b[1;33m.\u001b[0m\u001b[0mstep\u001b[0m\u001b[1;33m(\u001b[0m\u001b[1;33m)\u001b[0m\u001b[1;33m\u001b[0m\u001b[1;33m\u001b[0m\u001b[0m\n",
      "\u001b[1;32m~\\Documents\\PythonNotebook\\recsys_ref\\BERT4Rec-PyTorch\\trainers\\base.py\u001b[0m in \u001b[0;36mtrain_one_epoch\u001b[1;34m(self, epoch, accum_iter)\u001b[0m\n\u001b[0;32m     85\u001b[0m \u001b[1;33m\u001b[0m\u001b[0m\n\u001b[0;32m     86\u001b[0m             \u001b[0mself\u001b[0m\u001b[1;33m.\u001b[0m\u001b[0moptimizer\u001b[0m\u001b[1;33m.\u001b[0m\u001b[0mzero_grad\u001b[0m\u001b[1;33m(\u001b[0m\u001b[1;33m)\u001b[0m\u001b[1;33m\u001b[0m\u001b[1;33m\u001b[0m\u001b[0m\n\u001b[1;32m---> 87\u001b[1;33m             \u001b[0mloss\u001b[0m \u001b[1;33m=\u001b[0m \u001b[0mself\u001b[0m\u001b[1;33m.\u001b[0m\u001b[0mcalculate_loss\u001b[0m\u001b[1;33m(\u001b[0m\u001b[0mbatch\u001b[0m\u001b[1;33m)\u001b[0m\u001b[1;33m\u001b[0m\u001b[1;33m\u001b[0m\u001b[0m\n\u001b[0m\u001b[0;32m     88\u001b[0m             \u001b[0mloss\u001b[0m\u001b[1;33m.\u001b[0m\u001b[0mbackward\u001b[0m\u001b[1;33m(\u001b[0m\u001b[1;33m)\u001b[0m\u001b[1;33m\u001b[0m\u001b[1;33m\u001b[0m\u001b[0m\n\u001b[0;32m     89\u001b[0m \u001b[1;33m\u001b[0m\u001b[0m\n",
      "\u001b[1;32m~\\Documents\\PythonNotebook\\recsys_ref\\BERT4Rec-PyTorch\\trainers\\bert.py\u001b[0m in \u001b[0;36mcalculate_loss\u001b[1;34m(self, batch)\u001b[0m\n\u001b[0;32m     22\u001b[0m     \u001b[1;32mdef\u001b[0m \u001b[0mcalculate_loss\u001b[0m\u001b[1;33m(\u001b[0m\u001b[0mself\u001b[0m\u001b[1;33m,\u001b[0m \u001b[0mbatch\u001b[0m\u001b[1;33m)\u001b[0m\u001b[1;33m:\u001b[0m\u001b[1;33m\u001b[0m\u001b[1;33m\u001b[0m\u001b[0m\n\u001b[0;32m     23\u001b[0m         \u001b[0mseqs\u001b[0m\u001b[1;33m,\u001b[0m \u001b[0mlabels\u001b[0m \u001b[1;33m=\u001b[0m \u001b[0mbatch\u001b[0m\u001b[1;33m\u001b[0m\u001b[1;33m\u001b[0m\u001b[0m\n\u001b[1;32m---> 24\u001b[1;33m         \u001b[0mlogits\u001b[0m \u001b[1;33m=\u001b[0m \u001b[0mself\u001b[0m\u001b[1;33m.\u001b[0m\u001b[0mmodel\u001b[0m\u001b[1;33m(\u001b[0m\u001b[0mseqs\u001b[0m\u001b[1;33m)\u001b[0m  \u001b[1;31m# B x T x V\u001b[0m\u001b[1;33m\u001b[0m\u001b[1;33m\u001b[0m\u001b[0m\n\u001b[0m\u001b[0;32m     25\u001b[0m \u001b[1;33m\u001b[0m\u001b[0m\n\u001b[0;32m     26\u001b[0m         \u001b[0mlogits\u001b[0m \u001b[1;33m=\u001b[0m \u001b[0mlogits\u001b[0m\u001b[1;33m.\u001b[0m\u001b[0mview\u001b[0m\u001b[1;33m(\u001b[0m\u001b[1;33m-\u001b[0m\u001b[1;36m1\u001b[0m\u001b[1;33m,\u001b[0m \u001b[0mlogits\u001b[0m\u001b[1;33m.\u001b[0m\u001b[0msize\u001b[0m\u001b[1;33m(\u001b[0m\u001b[1;33m-\u001b[0m\u001b[1;36m1\u001b[0m\u001b[1;33m)\u001b[0m\u001b[1;33m)\u001b[0m  \u001b[1;31m# (B*T) x V\u001b[0m\u001b[1;33m\u001b[0m\u001b[1;33m\u001b[0m\u001b[0m\n",
      "\u001b[1;32m~\\AppData\\Local\\Continuum\\anaconda3\\lib\\site-packages\\torch\\nn\\modules\\module.py\u001b[0m in \u001b[0;36m_call_impl\u001b[1;34m(self, *input, **kwargs)\u001b[0m\n\u001b[0;32m   1049\u001b[0m         if not (self._backward_hooks or self._forward_hooks or self._forward_pre_hooks or _global_backward_hooks\n\u001b[0;32m   1050\u001b[0m                 or _global_forward_hooks or _global_forward_pre_hooks):\n\u001b[1;32m-> 1051\u001b[1;33m             \u001b[1;32mreturn\u001b[0m \u001b[0mforward_call\u001b[0m\u001b[1;33m(\u001b[0m\u001b[1;33m*\u001b[0m\u001b[0minput\u001b[0m\u001b[1;33m,\u001b[0m \u001b[1;33m**\u001b[0m\u001b[0mkwargs\u001b[0m\u001b[1;33m)\u001b[0m\u001b[1;33m\u001b[0m\u001b[1;33m\u001b[0m\u001b[0m\n\u001b[0m\u001b[0;32m   1052\u001b[0m         \u001b[1;31m# Do not call functions when jit is used\u001b[0m\u001b[1;33m\u001b[0m\u001b[1;33m\u001b[0m\u001b[1;33m\u001b[0m\u001b[0m\n\u001b[0;32m   1053\u001b[0m         \u001b[0mfull_backward_hooks\u001b[0m\u001b[1;33m,\u001b[0m \u001b[0mnon_full_backward_hooks\u001b[0m \u001b[1;33m=\u001b[0m \u001b[1;33m[\u001b[0m\u001b[1;33m]\u001b[0m\u001b[1;33m,\u001b[0m \u001b[1;33m[\u001b[0m\u001b[1;33m]\u001b[0m\u001b[1;33m\u001b[0m\u001b[1;33m\u001b[0m\u001b[0m\n",
      "\u001b[1;32m~\\Documents\\PythonNotebook\\recsys_ref\\BERT4Rec-PyTorch\\models\\bert.py\u001b[0m in \u001b[0;36mforward\u001b[1;34m(self, x)\u001b[0m\n\u001b[0;32m     18\u001b[0m     \u001b[1;32mdef\u001b[0m \u001b[0mforward\u001b[0m\u001b[1;33m(\u001b[0m\u001b[0mself\u001b[0m\u001b[1;33m,\u001b[0m \u001b[0mx\u001b[0m\u001b[1;33m)\u001b[0m\u001b[1;33m:\u001b[0m\u001b[1;33m\u001b[0m\u001b[1;33m\u001b[0m\u001b[0m\n\u001b[0;32m     19\u001b[0m         \u001b[0mx\u001b[0m \u001b[1;33m=\u001b[0m \u001b[0mself\u001b[0m\u001b[1;33m.\u001b[0m\u001b[0mbert\u001b[0m\u001b[1;33m(\u001b[0m\u001b[0mx\u001b[0m\u001b[1;33m)\u001b[0m\u001b[1;33m\u001b[0m\u001b[1;33m\u001b[0m\u001b[0m\n\u001b[1;32m---> 20\u001b[1;33m         \u001b[1;32mreturn\u001b[0m \u001b[0mself\u001b[0m\u001b[1;33m.\u001b[0m\u001b[0mout\u001b[0m\u001b[1;33m(\u001b[0m\u001b[0mx\u001b[0m\u001b[1;33m)\u001b[0m\u001b[1;33m\u001b[0m\u001b[1;33m\u001b[0m\u001b[0m\n\u001b[0m",
      "\u001b[1;32m~\\AppData\\Local\\Continuum\\anaconda3\\lib\\site-packages\\torch\\nn\\modules\\module.py\u001b[0m in \u001b[0;36m_call_impl\u001b[1;34m(self, *input, **kwargs)\u001b[0m\n\u001b[0;32m   1049\u001b[0m         if not (self._backward_hooks or self._forward_hooks or self._forward_pre_hooks or _global_backward_hooks\n\u001b[0;32m   1050\u001b[0m                 or _global_forward_hooks or _global_forward_pre_hooks):\n\u001b[1;32m-> 1051\u001b[1;33m             \u001b[1;32mreturn\u001b[0m \u001b[0mforward_call\u001b[0m\u001b[1;33m(\u001b[0m\u001b[1;33m*\u001b[0m\u001b[0minput\u001b[0m\u001b[1;33m,\u001b[0m \u001b[1;33m**\u001b[0m\u001b[0mkwargs\u001b[0m\u001b[1;33m)\u001b[0m\u001b[1;33m\u001b[0m\u001b[1;33m\u001b[0m\u001b[0m\n\u001b[0m\u001b[0;32m   1052\u001b[0m         \u001b[1;31m# Do not call functions when jit is used\u001b[0m\u001b[1;33m\u001b[0m\u001b[1;33m\u001b[0m\u001b[1;33m\u001b[0m\u001b[0m\n\u001b[0;32m   1053\u001b[0m         \u001b[0mfull_backward_hooks\u001b[0m\u001b[1;33m,\u001b[0m \u001b[0mnon_full_backward_hooks\u001b[0m \u001b[1;33m=\u001b[0m \u001b[1;33m[\u001b[0m\u001b[1;33m]\u001b[0m\u001b[1;33m,\u001b[0m \u001b[1;33m[\u001b[0m\u001b[1;33m]\u001b[0m\u001b[1;33m\u001b[0m\u001b[1;33m\u001b[0m\u001b[0m\n",
      "\u001b[1;32m~\\AppData\\Local\\Continuum\\anaconda3\\lib\\site-packages\\torch\\nn\\modules\\linear.py\u001b[0m in \u001b[0;36mforward\u001b[1;34m(self, input)\u001b[0m\n\u001b[0;32m     94\u001b[0m \u001b[1;33m\u001b[0m\u001b[0m\n\u001b[0;32m     95\u001b[0m     \u001b[1;32mdef\u001b[0m \u001b[0mforward\u001b[0m\u001b[1;33m(\u001b[0m\u001b[0mself\u001b[0m\u001b[1;33m,\u001b[0m \u001b[0minput\u001b[0m\u001b[1;33m:\u001b[0m \u001b[0mTensor\u001b[0m\u001b[1;33m)\u001b[0m \u001b[1;33m->\u001b[0m \u001b[0mTensor\u001b[0m\u001b[1;33m:\u001b[0m\u001b[1;33m\u001b[0m\u001b[1;33m\u001b[0m\u001b[0m\n\u001b[1;32m---> 96\u001b[1;33m         \u001b[1;32mreturn\u001b[0m \u001b[0mF\u001b[0m\u001b[1;33m.\u001b[0m\u001b[0mlinear\u001b[0m\u001b[1;33m(\u001b[0m\u001b[0minput\u001b[0m\u001b[1;33m,\u001b[0m \u001b[0mself\u001b[0m\u001b[1;33m.\u001b[0m\u001b[0mweight\u001b[0m\u001b[1;33m,\u001b[0m \u001b[0mself\u001b[0m\u001b[1;33m.\u001b[0m\u001b[0mbias\u001b[0m\u001b[1;33m)\u001b[0m\u001b[1;33m\u001b[0m\u001b[1;33m\u001b[0m\u001b[0m\n\u001b[0m\u001b[0;32m     97\u001b[0m \u001b[1;33m\u001b[0m\u001b[0m\n\u001b[0;32m     98\u001b[0m     \u001b[1;32mdef\u001b[0m \u001b[0mextra_repr\u001b[0m\u001b[1;33m(\u001b[0m\u001b[0mself\u001b[0m\u001b[1;33m)\u001b[0m \u001b[1;33m->\u001b[0m \u001b[0mstr\u001b[0m\u001b[1;33m:\u001b[0m\u001b[1;33m\u001b[0m\u001b[1;33m\u001b[0m\u001b[0m\n",
      "\u001b[1;32m~\\AppData\\Local\\Continuum\\anaconda3\\lib\\site-packages\\torch\\nn\\functional.py\u001b[0m in \u001b[0;36mlinear\u001b[1;34m(input, weight, bias)\u001b[0m\n\u001b[0;32m   1845\u001b[0m     \u001b[1;32mif\u001b[0m \u001b[0mhas_torch_function_variadic\u001b[0m\u001b[1;33m(\u001b[0m\u001b[0minput\u001b[0m\u001b[1;33m,\u001b[0m \u001b[0mweight\u001b[0m\u001b[1;33m)\u001b[0m\u001b[1;33m:\u001b[0m\u001b[1;33m\u001b[0m\u001b[1;33m\u001b[0m\u001b[0m\n\u001b[0;32m   1846\u001b[0m         \u001b[1;32mreturn\u001b[0m \u001b[0mhandle_torch_function\u001b[0m\u001b[1;33m(\u001b[0m\u001b[0mlinear\u001b[0m\u001b[1;33m,\u001b[0m \u001b[1;33m(\u001b[0m\u001b[0minput\u001b[0m\u001b[1;33m,\u001b[0m \u001b[0mweight\u001b[0m\u001b[1;33m)\u001b[0m\u001b[1;33m,\u001b[0m \u001b[0minput\u001b[0m\u001b[1;33m,\u001b[0m \u001b[0mweight\u001b[0m\u001b[1;33m,\u001b[0m \u001b[0mbias\u001b[0m\u001b[1;33m=\u001b[0m\u001b[0mbias\u001b[0m\u001b[1;33m)\u001b[0m\u001b[1;33m\u001b[0m\u001b[1;33m\u001b[0m\u001b[0m\n\u001b[1;32m-> 1847\u001b[1;33m     \u001b[1;32mreturn\u001b[0m \u001b[0mtorch\u001b[0m\u001b[1;33m.\u001b[0m\u001b[0m_C\u001b[0m\u001b[1;33m.\u001b[0m\u001b[0m_nn\u001b[0m\u001b[1;33m.\u001b[0m\u001b[0mlinear\u001b[0m\u001b[1;33m(\u001b[0m\u001b[0minput\u001b[0m\u001b[1;33m,\u001b[0m \u001b[0mweight\u001b[0m\u001b[1;33m,\u001b[0m \u001b[0mbias\u001b[0m\u001b[1;33m)\u001b[0m\u001b[1;33m\u001b[0m\u001b[1;33m\u001b[0m\u001b[0m\n\u001b[0m\u001b[0;32m   1848\u001b[0m \u001b[1;33m\u001b[0m\u001b[0m\n\u001b[0;32m   1849\u001b[0m \u001b[1;33m\u001b[0m\u001b[0m\n",
      "\u001b[1;31mKeyboardInterrupt\u001b[0m: "
     ]
    }
   ],
   "source": [
    "trainer.train()"
   ]
  },
  {
   "cell_type": "code",
   "execution_count": null,
   "id": "cd05c792",
   "metadata": {},
   "outputs": [],
   "source": []
  },
  {
   "cell_type": "code",
   "execution_count": null,
   "id": "a924fd38",
   "metadata": {},
   "outputs": [],
   "source": []
  },
  {
   "cell_type": "code",
   "execution_count": null,
   "id": "2bf33cdc",
   "metadata": {},
   "outputs": [],
   "source": []
  },
  {
   "cell_type": "code",
   "execution_count": null,
   "id": "a34d5dff",
   "metadata": {},
   "outputs": [],
   "source": []
  }
 ],
 "metadata": {
  "kernelspec": {
   "display_name": "Python 3",
   "language": "python",
   "name": "python3"
  },
  "language_info": {
   "codemirror_mode": {
    "name": "ipython",
    "version": 3
   },
   "file_extension": ".py",
   "mimetype": "text/x-python",
   "name": "python",
   "nbconvert_exporter": "python",
   "pygments_lexer": "ipython3",
   "version": "3.7.3"
  }
 },
 "nbformat": 4,
 "nbformat_minor": 5
}
