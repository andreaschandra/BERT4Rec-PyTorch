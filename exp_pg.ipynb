{
 "cells": [
  {
   "cell_type": "code",
   "execution_count": 1,
   "id": "eb3b5817",
   "metadata": {},
   "outputs": [],
   "source": [
    "import torch"
   ]
  },
  {
   "cell_type": "code",
   "execution_count": 17,
   "id": "6492cb09",
   "metadata": {},
   "outputs": [],
   "source": [
    "scores = torch.rand(10,8)"
   ]
  },
  {
   "cell_type": "code",
   "execution_count": 18,
   "id": "3aa7db4a",
   "metadata": {},
   "outputs": [
    {
     "data": {
      "text/plain": [
       "tensor([[0.1550, 0.1917, 0.4883, 0.6618, 0.3507, 0.1694, 0.7424, 0.3067],\n",
       "        [0.1490, 0.4954, 0.0440, 0.5918, 0.4374, 0.2352, 0.7850, 0.4398],\n",
       "        [0.7277, 0.1070, 0.9953, 0.0231, 0.0731, 0.2263, 0.4785, 0.7319],\n",
       "        [0.4720, 0.6296, 0.5397, 0.6737, 0.2450, 0.6566, 0.3393, 0.4635],\n",
       "        [0.7952, 0.6748, 0.2465, 0.2926, 0.9985, 0.6364, 0.6008, 0.4946],\n",
       "        [0.2361, 0.7266, 0.1014, 0.2775, 0.9458, 0.1839, 0.8240, 0.8688],\n",
       "        [0.7144, 0.3496, 0.3882, 0.8329, 0.1830, 0.9750, 0.5574, 0.7935],\n",
       "        [0.5677, 0.4054, 0.2651, 0.4464, 0.5118, 0.4895, 0.9581, 0.9394],\n",
       "        [0.1245, 0.5433, 0.0670, 0.7876, 0.6485, 0.9752, 0.5390, 0.8963],\n",
       "        [0.0931, 0.7859, 0.3301, 0.8819, 0.6639, 0.2695, 0.5170, 0.8115]])"
      ]
     },
     "execution_count": 18,
     "metadata": {},
     "output_type": "execute_result"
    }
   ],
   "source": [
    "scores"
   ]
  },
  {
   "cell_type": "code",
   "execution_count": 26,
   "id": "61d2b0f2",
   "metadata": {},
   "outputs": [],
   "source": [
    "scores_min = (scores)"
   ]
  },
  {
   "cell_type": "code",
   "execution_count": 27,
   "id": "ca35b910",
   "metadata": {},
   "outputs": [
    {
     "data": {
      "text/plain": [
       "tensor([[0.1550, 0.1917, 0.4883, 0.6618, 0.3507, 0.1694, 0.7424, 0.3067],\n",
       "        [0.1490, 0.4954, 0.0440, 0.5918, 0.4374, 0.2352, 0.7850, 0.4398],\n",
       "        [0.7277, 0.1070, 0.9953, 0.0231, 0.0731, 0.2263, 0.4785, 0.7319],\n",
       "        [0.4720, 0.6296, 0.5397, 0.6737, 0.2450, 0.6566, 0.3393, 0.4635],\n",
       "        [0.7952, 0.6748, 0.2465, 0.2926, 0.9985, 0.6364, 0.6008, 0.4946],\n",
       "        [0.2361, 0.7266, 0.1014, 0.2775, 0.9458, 0.1839, 0.8240, 0.8688],\n",
       "        [0.7144, 0.3496, 0.3882, 0.8329, 0.1830, 0.9750, 0.5574, 0.7935],\n",
       "        [0.5677, 0.4054, 0.2651, 0.4464, 0.5118, 0.4895, 0.9581, 0.9394],\n",
       "        [0.1245, 0.5433, 0.0670, 0.7876, 0.6485, 0.9752, 0.5390, 0.8963],\n",
       "        [0.0931, 0.7859, 0.3301, 0.8819, 0.6639, 0.2695, 0.5170, 0.8115]])"
      ]
     },
     "execution_count": 27,
     "metadata": {},
     "output_type": "execute_result"
    }
   ],
   "source": [
    "scores_min"
   ]
  },
  {
   "cell_type": "code",
   "execution_count": 32,
   "id": "d807581b",
   "metadata": {},
   "outputs": [],
   "source": [
    "rank = scores_min.argsort(dim=1, descending=True)"
   ]
  },
  {
   "cell_type": "code",
   "execution_count": 33,
   "id": "a3d3b83e",
   "metadata": {},
   "outputs": [
    {
     "data": {
      "text/plain": [
       "tensor([[6, 3, 2, 4, 7, 1, 5, 0],\n",
       "        [6, 3, 1, 7, 4, 5, 0, 2],\n",
       "        [2, 7, 0, 6, 5, 1, 4, 3],\n",
       "        [3, 5, 1, 2, 0, 7, 6, 4],\n",
       "        [4, 0, 1, 5, 6, 7, 3, 2],\n",
       "        [4, 7, 6, 1, 3, 0, 5, 2],\n",
       "        [5, 3, 7, 0, 6, 2, 1, 4],\n",
       "        [6, 7, 0, 4, 5, 3, 1, 2],\n",
       "        [5, 7, 3, 4, 1, 6, 0, 2],\n",
       "        [3, 7, 1, 4, 6, 2, 5, 0]])"
      ]
     },
     "execution_count": 33,
     "metadata": {},
     "output_type": "execute_result"
    }
   ],
   "source": [
    "rank"
   ]
  },
  {
   "cell_type": "code",
   "execution_count": 54,
   "id": "c6f15d40",
   "metadata": {},
   "outputs": [],
   "source": [
    "cut = rank[:, :2]"
   ]
  },
  {
   "cell_type": "code",
   "execution_count": 34,
   "id": "8c7d4375",
   "metadata": {},
   "outputs": [],
   "source": [
    "position = torch.arange(2, 2+10)"
   ]
  },
  {
   "cell_type": "code",
   "execution_count": 37,
   "id": "2d2c6ea6",
   "metadata": {},
   "outputs": [
    {
     "data": {
      "text/plain": [
       "tensor([ 2,  3,  4,  5,  6,  7,  8,  9, 10, 11])"
      ]
     },
     "execution_count": 37,
     "metadata": {},
     "output_type": "execute_result"
    }
   ],
   "source": [
    "position"
   ]
  },
  {
   "cell_type": "code",
   "execution_count": 95,
   "id": "ae8c1646",
   "metadata": {},
   "outputs": [],
   "source": [
    "label = torch.ones((2,10))"
   ]
  },
  {
   "cell_type": "code",
   "execution_count": 106,
   "id": "96c60388",
   "metadata": {},
   "outputs": [],
   "source": [
    "label[0, torch.arange(1, 10)] = 0. \n",
    "label[1, torch.arange(1, 10)] = 0 "
   ]
  },
  {
   "cell_type": "code",
   "execution_count": 107,
   "id": "57161ea9",
   "metadata": {},
   "outputs": [
    {
     "data": {
      "text/plain": [
       "tensor([[1., 0., 0., 0., 0., 0., 0., 0., 0., 0.],\n",
       "        [1., 0., 0., 0., 0., 0., 0., 0., 0., 0.]])"
      ]
     },
     "execution_count": 107,
     "metadata": {},
     "output_type": "execute_result"
    }
   ],
   "source": [
    "label"
   ]
  },
  {
   "cell_type": "code",
   "execution_count": 108,
   "id": "c8e91729",
   "metadata": {},
   "outputs": [],
   "source": [
    "cut = torch.LongTensor([\n",
    "    [0,3,1,2,4,5,6,7,8,9],\n",
    "    [1,2,0,3,4,5,6,7,8,9]\n",
    "])"
   ]
  },
  {
   "cell_type": "code",
   "execution_count": 109,
   "id": "18a1559f",
   "metadata": {},
   "outputs": [
    {
     "data": {
      "text/plain": [
       "tensor([[1., 0., 0., 0., 0., 0., 0., 0., 0., 0.],\n",
       "        [1., 0., 0., 0., 0., 0., 0., 0., 0., 0.]])"
      ]
     },
     "execution_count": 109,
     "metadata": {},
     "output_type": "execute_result"
    }
   ],
   "source": [
    "label"
   ]
  },
  {
   "cell_type": "code",
   "execution_count": 110,
   "id": "6dc7d397",
   "metadata": {},
   "outputs": [
    {
     "data": {
      "text/plain": [
       "tensor([[1., 0., 0., 0., 0., 0., 0., 0., 0., 0.],\n",
       "        [0., 0., 1., 0., 0., 0., 0., 0., 0., 0.]])"
      ]
     },
     "execution_count": 110,
     "metadata": {},
     "output_type": "execute_result"
    }
   ],
   "source": [
    "label.gather(1, cut)"
   ]
  },
  {
   "cell_type": "code",
   "execution_count": 111,
   "id": "2cd0f096",
   "metadata": {},
   "outputs": [],
   "source": [
    "position = torch.arange(2, 2+10)\n",
    "weights = 1 / torch.log2(position.float())"
   ]
  },
  {
   "cell_type": "code",
   "execution_count": 112,
   "id": "34781248",
   "metadata": {},
   "outputs": [
    {
     "data": {
      "text/plain": [
       "tensor([1.0000, 0.6309, 0.5000, 0.4307, 0.3869, 0.3562, 0.3333, 0.3155, 0.3010,\n",
       "        0.2891])"
      ]
     },
     "execution_count": 112,
     "metadata": {},
     "output_type": "execute_result"
    }
   ],
   "source": [
    "weights"
   ]
  },
  {
   "cell_type": "code",
   "execution_count": 113,
   "id": "715ec5c1",
   "metadata": {},
   "outputs": [
    {
     "data": {
      "text/plain": [
       "tensor([[1., 0., 0., 0., 0., 0., 0., 0., 0., 0.],\n",
       "        [1., 0., 0., 0., 0., 0., 0., 0., 0., 0.]])"
      ]
     },
     "execution_count": 113,
     "metadata": {},
     "output_type": "execute_result"
    }
   ],
   "source": [
    "label"
   ]
  },
  {
   "cell_type": "code",
   "execution_count": 114,
   "id": "ad33a13f",
   "metadata": {},
   "outputs": [],
   "source": [
    "hits = label.gather(1, cut)"
   ]
  },
  {
   "cell_type": "code",
   "execution_count": 116,
   "id": "950600a2",
   "metadata": {},
   "outputs": [
    {
     "data": {
      "text/plain": [
       "tensor([[1., 0., 0., 0., 0., 0., 0., 0., 0., 0.],\n",
       "        [0., 0., 1., 0., 0., 0., 0., 0., 0., 0.]])"
      ]
     },
     "execution_count": 116,
     "metadata": {},
     "output_type": "execute_result"
    }
   ],
   "source": [
    "hits"
   ]
  },
  {
   "cell_type": "code",
   "execution_count": 118,
   "id": "c5dbc391",
   "metadata": {},
   "outputs": [
    {
     "data": {
      "text/plain": [
       "tensor([[1., 0., 0., 0., 0., 0., 0., 0., 0., 0.],\n",
       "        [0., 0., 1., 0., 0., 0., 0., 0., 0., 0.]])"
      ]
     },
     "execution_count": 118,
     "metadata": {},
     "output_type": "execute_result"
    }
   ],
   "source": [
    "hits"
   ]
  },
  {
   "cell_type": "code",
   "execution_count": 117,
   "id": "6f6ee275",
   "metadata": {},
   "outputs": [
    {
     "data": {
      "text/plain": [
       "tensor([[1.0000, 0.0000, 0.0000, 0.0000, 0.0000, 0.0000, 0.0000, 0.0000, 0.0000,\n",
       "         0.0000],\n",
       "        [0.0000, 0.0000, 0.5000, 0.0000, 0.0000, 0.0000, 0.0000, 0.0000, 0.0000,\n",
       "         0.0000]])"
      ]
     },
     "execution_count": 117,
     "metadata": {},
     "output_type": "execute_result"
    }
   ],
   "source": [
    "hits * weights"
   ]
  },
  {
   "cell_type": "code",
   "execution_count": 75,
   "id": "51151cdb",
   "metadata": {},
   "outputs": [
    {
     "data": {
      "text/plain": [
       "tensor([1., 0.])"
      ]
     },
     "execution_count": 75,
     "metadata": {},
     "output_type": "execute_result"
    }
   ],
   "source": [
    "label.gather(1, cut).sum(1) / label.sum(1)"
   ]
  },
  {
   "cell_type": "code",
   "execution_count": null,
   "id": "2607865b",
   "metadata": {},
   "outputs": [],
   "source": []
  }
 ],
 "metadata": {
  "kernelspec": {
   "display_name": "Python 3",
   "language": "python",
   "name": "python3"
  },
  "language_info": {
   "codemirror_mode": {
    "name": "ipython",
    "version": 3
   },
   "file_extension": ".py",
   "mimetype": "text/x-python",
   "name": "python",
   "nbconvert_exporter": "python",
   "pygments_lexer": "ipython3",
   "version": "3.7.3"
  }
 },
 "nbformat": 4,
 "nbformat_minor": 5
}
